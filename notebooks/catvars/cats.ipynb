{
 "cells": [
  {
   "cell_type": "markdown",
   "metadata": {},
   "source": [
    "# Notebook cats from Chap 6 Categorically Speaking"
   ]
  },
  {
   "cell_type": "code",
   "execution_count": null,
   "metadata": {},
   "outputs": [],
   "source": [
    "from rfpimp import *\n",
    "import pandas as pd\n",
    "import matplotlib.pyplot as plt\n",
    "import numpy as np\n",
    "from sklearn.ensemble import RandomForestRegressor"
   ]
  },
  {
   "cell_type": "code",
   "execution_count": null,
   "metadata": {},
   "outputs": [],
   "source": [
    "df = pd.read_csv(\"data/rent.csv\", parse_dates=['created'])\n",
    "df_clean = df[(df.price>1_000) & (df.price<10_000)]\n",
    "df_clean = df_clean[(df_clean.longitude!=0) | (df_clean.latitude!=0)]\n",
    "df_clean = df_clean[(df_clean['latitude']>40.55) &\n",
    "                    (df_clean['latitude']<40.94) &\n",
    "                    (df_clean['longitude']>-74.1) &\n",
    "                    (df_clean['longitude']<-73.67)]\n",
    "df = df_clean"
   ]
  },
  {
   "cell_type": "code",
   "execution_count": null,
   "metadata": {},
   "outputs": [],
   "source": [
    "numfeatures = ['bathrooms', 'bedrooms', 'longitude', 'latitude']\n",
    "X, y = df[numfeatures], df['price']\n",
    "rf = RandomForestRegressor(n_estimators=100, n_jobs=-1, oob_score=True)\n",
    "rf.fit(X, y)\n",
    "oob_baseline = rf.oob_score_"
   ]
  },
  {
   "cell_type": "code",
   "execution_count": null,
   "metadata": {},
   "outputs": [],
   "source": [
    "print(f\"{rfnnodes(rf):,d} tree nodes and {np.median(rfmaxdepths(rf))} median tree height\")"
   ]
  },
  {
   "cell_type": "code",
   "execution_count": null,
   "metadata": {},
   "outputs": [],
   "source": [
    "def showimp(rf, X, y):\n",
    "    features = list(X.columns)\n",
    "    features.remove('latitude')\n",
    "    features.remove('longitude')\n",
    "    features += [['latitude','longitude']]\n",
    "\n",
    "    I = importances(rf, X, y, features=features)\n",
    "    plot_importances(I, color='#4575b4')\n",
    "    \n",
    "showimp(rf, X, y)"
   ]
  },
  {
   "cell_type": "code",
   "execution_count": null,
   "metadata": {},
   "outputs": [],
   "source": [
    "df['interest_level'] = df['interest_level'].map({'low':1,'medium':2,'high':3})"
   ]
  },
  {
   "cell_type": "code",
   "execution_count": null,
   "metadata": {},
   "outputs": [],
   "source": [
    "def test(X, y):\n",
    "    rf = RandomForestRegressor(n_estimators=100, n_jobs=-1, oob_score=True)\n",
    "    rf.fit(X, y)\n",
    "    oob = rf.oob_score_\n",
    "    n = rfnnodes(rf)\n",
    "    h = np.median(rfmaxdepths(rf))\n",
    "    print(f\"OOB R^2 {oob:.5f} using {n:,d} tree nodes with {h} median tree height\")\n",
    "    return rf, oob\n",
    "\n",
    "X, y = df[['interest_level']+numfeatures], df['price']\n",
    "rf, oob = test(X, y)"
   ]
  },
  {
   "cell_type": "code",
   "execution_count": null,
   "metadata": {},
   "outputs": [],
   "source": [
    "df['display_address_cat'] = df['display_address'].astype('category').cat.as_ordered()\n",
    "df['display_address_cat'] = df['display_address_cat'].cat.codes + 1"
   ]
  },
  {
   "cell_type": "code",
   "execution_count": null,
   "metadata": {},
   "outputs": [],
   "source": [
    "X, y = df[['display_address_cat']+numfeatures], df['price']\n",
    "rf, oob = test(X, y)"
   ]
  },
  {
   "cell_type": "code",
   "execution_count": null,
   "metadata": {},
   "outputs": [],
   "source": [
    "managers_count = df['manager_id'].value_counts()\n",
    "df['mgr_apt_count'] = df['manager_id'].map(managers_count)"
   ]
  },
  {
   "cell_type": "code",
   "execution_count": null,
   "metadata": {},
   "outputs": [],
   "source": [
    "X, y = df[['display_address_cat','mgr_apt_count']+numfeatures], df['price']\n",
    "rf, oob = test(X, y)"
   ]
  },
  {
   "cell_type": "code",
   "execution_count": null,
   "metadata": {},
   "outputs": [],
   "source": [
    "showimp(rf, X, y)"
   ]
  },
  {
   "cell_type": "code",
   "execution_count": null,
   "metadata": {},
   "outputs": [],
   "source": [
    "df['description'] = df['description'].fillna('')\n",
    "df['description'] = df['description'].str.lower() # normalize to lower case\n",
    "df['features'] = df['features'].fillna('') # fill missing w/blanks\n",
    "df['features'] = df['features'].str.lower() # normalize to lower case"
   ]
  },
  {
   "cell_type": "code",
   "execution_count": null,
   "metadata": {},
   "outputs": [],
   "source": [
    "# has apartment been renovated?\n",
    "df['renov'] = df['description'].str.contains(\"renov\")\n",
    "\n",
    "for w in ['doorman', 'parking', 'garage', 'laundry', \n",
    "          'Elevator', 'fitness center', 'dishwasher']:\n",
    "    df[w] = df['features'].str.contains(w)"
   ]
  },
  {
   "cell_type": "code",
   "execution_count": null,
   "metadata": {},
   "outputs": [],
   "source": [
    "df[\"num_desc_words\"] = df[\"description\"].apply(lambda x: len(x.split()))\n",
    "df[\"num_features\"] = df[\"features\"].apply(lambda x: len(x.split(\",\")))"
   ]
  },
  {
   "cell_type": "code",
   "execution_count": null,
   "metadata": {},
   "outputs": [],
   "source": [
    "df[\"num_photos\"] = df[\"photos\"].apply(lambda x: len(x.split(\",\")))"
   ]
  },
  {
   "cell_type": "code",
   "execution_count": null,
   "metadata": {},
   "outputs": [],
   "source": [
    "textfeatures = [\n",
    "    'num_photos', 'num_desc_words', 'num_features',\n",
    "    'doorman', 'parking', 'garage', 'laundry', \n",
    "    'Elevator', 'fitness center', 'dishwasher',\n",
    "    'renov'\n",
    "]\n",
    "X, y = df[textfeatures+numfeatures], df['price']\n",
    "rf, oob = test(X, y)"
   ]
  },
  {
   "cell_type": "code",
   "execution_count": null,
   "metadata": {},
   "outputs": [],
   "source": [
    "showimp(rf, X, y)"
   ]
  },
  {
   "cell_type": "code",
   "execution_count": null,
   "metadata": {},
   "outputs": [],
   "source": [
    "df[\"beds_to_baths\"] = df[\"bedrooms\"]/(df[\"bathrooms\"]+1) # avoid div by 0\n",
    "X, y = df[['beds_to_baths']+numfeatures], df['price']\n",
    "rf, oob = test(X, y)"
   ]
  },
  {
   "cell_type": "code",
   "execution_count": null,
   "metadata": {},
   "outputs": [],
   "source": [
    "df[\"beds_per_price\"] = df[\"bedrooms\"] / df[\"price\"]\n",
    "X, y = df[['beds_per_price']+numfeatures], df['price']\n",
    "rf, oob = test(X, y)"
   ]
  },
  {
   "cell_type": "code",
   "execution_count": null,
   "metadata": {},
   "outputs": [],
   "source": [
    "from sklearn.model_selection import train_test_split\n",
    "df_train, df_test = train_test_split(df, test_size=0.20)\n",
    "df_train = df_train.copy()\n",
    "df_train['beds_per_price'] = df_train['bedrooms'] / df_train[\"price\"]"
   ]
  },
  {
   "cell_type": "code",
   "execution_count": null,
   "metadata": {},
   "outputs": [],
   "source": [
    "bpmap = dict(zip(df_train[\"bedrooms\"],df_train[\"beds_per_price\"]))\n",
    "df_test = df_test.copy()\n",
    "df_test[\"beds_per_price\"] = df_test[\"bedrooms\"].map(bpmap)\n",
    "avg = np.mean(df_test['beds_per_price'])\n",
    "df_test['beds_per_price'].fillna(avg, inplace=True)"
   ]
  },
  {
   "cell_type": "code",
   "execution_count": null,
   "metadata": {},
   "outputs": [],
   "source": [
    "X_train, y_train = df_train[['beds_per_price']+numfeatures], df_train['price']\n",
    "X_test, y_test = df_test[['beds_per_price']+numfeatures], df_test['price']\n",
    "\n",
    "rf = RandomForestRegressor(n_estimators=100, n_jobs=-1)\n",
    "rf.fit(X_train, y_train)\n",
    "oob_overfit = rf.score(X_test, y_test) # don't test training set\n",
    "print(f\"OOB R^2 {oob_overfit:.5f}\")\n",
    "print(f\"{rfnnodes(rf):,d} nodes, {np.median(rfmaxdepths(rf))} median height\")"
   ]
  },
  {
   "cell_type": "code",
   "execution_count": null,
   "metadata": {},
   "outputs": [],
   "source": [
    "hoods = {\n",
    "    \"hells\" : [40.7622, -73.9924],\n",
    "    \"astoria\" : [40.7796684, -73.9215888],\n",
    "    \"Evillage\" : [40.723163774, -73.984829394],\n",
    "    \"Wvillage\" : [40.73578, -74.00357],\n",
    "    \"LowerEast\" : [40.715033, -73.9842724],\n",
    "    \"UpperEast\" : [40.768163594, -73.959329496],\n",
    "    \"ParkSlope\" : [40.672404, -73.977063],\n",
    "    \"Prospect Park\" : [40.93704, -74.17431],\n",
    "    \"Crown Heights\" : [40.657830702, -73.940162906],\n",
    "    \"financial\" : [40.703830518, -74.005666644],\n",
    "    \"brooklynheights\" : [40.7022621909, -73.9871760513],\n",
    "    \"gowanus\" : [40.673, -73.997]\n",
    "}"
   ]
  },
  {
   "cell_type": "code",
   "execution_count": null,
   "metadata": {},
   "outputs": [],
   "source": [
    "for hood,loc in hoods.items():\n",
    "    # compute manhattan distance\n",
    "    df[hood] = np.abs(df.latitude - loc[0]) + np.abs(df.longitude - loc[1])"
   ]
  },
  {
   "cell_type": "code",
   "execution_count": null,
   "metadata": {},
   "outputs": [],
   "source": [
    "hoodfeatures = list(hoods.keys())\n",
    "X, y = df[numfeatures+hoodfeatures], df['price']\n",
    "rf, oob_hood = test(X, y)"
   ]
  },
  {
   "cell_type": "code",
   "execution_count": null,
   "metadata": {},
   "outputs": [],
   "source": [
    "X = X.drop(['longitude','latitude'],axis=1)\n",
    "rf = RandomForestRegressor(n_estimators=100, n_jobs=-1, oob_score=True)\n",
    "rf.fit(X, y)\n",
    "print(f\"{rf.oob_score_:.4f} score {rfnnodes(rf):,d} tree nodes and {np.median(rfmaxdepths(rf))} median tree height\")"
   ]
  },
  {
   "cell_type": "code",
   "execution_count": null,
   "metadata": {},
   "outputs": [],
   "source": [
    "X = df[['interest_level']+textfeatures+hoodfeatures+numfeatures]\n",
    "rf, oob_combined = test(X, y)"
   ]
  },
  {
   "cell_type": "code",
   "execution_count": null,
   "metadata": {},
   "outputs": [],
   "source": [
    "showimp(rf, X, y)"
   ]
  }
 ],
 "metadata": {
  "kernelspec": {
   "display_name": "Python 3",
   "language": "python",
   "name": "python3"
  }
 },
 "nbformat": 4,
 "nbformat_minor": 2
}
