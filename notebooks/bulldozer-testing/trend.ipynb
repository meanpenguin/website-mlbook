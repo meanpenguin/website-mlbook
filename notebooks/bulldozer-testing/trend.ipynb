{
 "cells": [
  {
   "cell_type": "markdown",
   "metadata": {},
   "source": [
    "# Notebook trend from Chap 9 Train, Validate, Test"
   ]
  },
  {
   "cell_type": "code",
   "execution_count": null,
   "metadata": {},
   "outputs": [],
   "source": [
    "from sklearn.linear_model import LinearRegression\n",
    "import matplotlib.pyplot as plt\n",
    "import pandas as pd\n",
    "import numpy as np\n",
    "from typing import Sequence\n",
    "\n",
    "bookcolors = {\n",
    "    'crimson': '#a50026', 'red': '#d73027',\n",
    "    'redorange': '#f46d43', 'orange': '#fdae61',\n",
    "    'yellow': '#fee090', 'sky': '#e0f3f8',\n",
    "    'babyblue': '#abd9e9', 'lightblue': '#74add1',\n",
    "    'blue': '#4575b4', 'purple': '#313695'}\n",
    "\n",
    "def clean_dates(df):\n",
    "    df.loc[df['YearMade']<1950, 'YearMade'] = np.nan\n",
    "    df.loc[df.eval(\"saledate.dt.year < YearMade\"), 'YearMade'] =         df['saledate'].dt.year    \n",
    "\n",
    "def df_split_dates(df,colname):\n",
    "    df[\"saleyear\"] = df[colname].dt.year\n",
    "    df[\"salemonth\"] = df[colname].dt.month\n",
    "    df[\"saleday\"] = df[colname].dt.day\n",
    "    df[\"saledayofweek\"] = df[colname].dt.dayofweek\n",
    "    df[\"saledayofyear\"] = df[colname].dt.dayofyear\n",
    "    df[colname] = df[colname].astype(np.int64) # convert to seconds since 1970\n",
    "    # age can be nan since YearMade can be nan\n",
    "    df['age'] = df['saleyear'] - df['YearMade'] # synthesize age\n",
    "\n",
    "df = pd.read_feather(\"data/bulldozer-train-all.feather\")\n",
    "df_split_dates(df, 'saledate')\n",
    "\n",
    "P = df.groupby('saleyear').mean()\n",
    "P = P.reset_index().sort_values('saleyear')[['saleyear','SalePrice']]\n",
    "\n",
    "lm = LinearRegression()\n",
    "lm.fit(P[['saleyear']], P['SalePrice'])\n",
    "print(lm.coef_, lm.intercept_)\n",
    "trend = lm.predict(P[['saleyear']])\n",
    "\n",
    "fig,ax = plt.subplots(figsize=(7,3))\n",
    "ax.plot(P['saleyear'], P['SalePrice'], \"o-\",\n",
    "        markersize=3, linewidth=1, label='Price',\n",
    "        c=bookcolors['blue'])\n",
    "ax.plot(P['saleyear'], trend, linewidth=1.2, label='Trend',\n",
    "        c=bookcolors['orange'])\n",
    "#ax.plot(P['saleyear'], P['SalePrice']-trend, \":\", label=\"detrended\")\n",
    "ax.plot(P['saleyear'], np.mean(P['SalePrice'])+(P['SalePrice']-trend),\n",
    "        \":\", label=\"Detrended\", linewidth=1.5, c=bookcolors['crimson'])\n",
    "ax.set_xlabel(\"Sale year\")\n",
    "ax.set_ylabel(\"Sale price (dollars)\")\n",
    "ax.set_ylim(25_000, 35_000)\n",
    "plt.legend(loc=\"lower right\", fontsize=\"small\", labelspacing=0)"
   ]
  }
 ],
 "metadata": {
  "kernelspec": {
   "display_name": "Python 3",
   "language": "python",
   "name": "python3"
  }
 },
 "nbformat": 4,
 "nbformat_minor": 2
}
