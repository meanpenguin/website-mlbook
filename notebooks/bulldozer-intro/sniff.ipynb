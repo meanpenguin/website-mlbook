{
 "cells": [
  {
   "cell_type": "markdown",
   "metadata": {},
   "source": [
    "# Notebook sniff from Chap 7 Exploring and Cleaning the Bulldozer Dataset"
   ]
  },
  {
   "cell_type": "code",
   "execution_count": null,
   "metadata": {},
   "outputs": [],
   "source": [
    "import pandas as pd\n",
    "import numpy as np\n",
    "from sklearn.ensemble import RandomForestRegressor\n",
    "from rfpimp import *  # feature importance plot"
   ]
  },
  {
   "cell_type": "code",
   "execution_count": null,
   "metadata": {},
   "outputs": [],
   "source": [
    "bookcolors = { # our usual book color palette\n",
    "         'crimson': '#a50026', 'red': '#d73027',\n",
    "         'redorange': '#f46d43', 'orange': '#fdae61',\n",
    "         'yellow': '#fee090', 'sky': '#e0f3f8',\n",
    "         'babyblue': '#abd9e9', 'lightblue': '#74add1',\n",
    "         'blue': '#4575b4', 'purple': '#313695'}"
   ]
  },
  {
   "cell_type": "code",
   "execution_count": null,
   "metadata": {},
   "outputs": [],
   "source": [
    "df_raw = pd.read_feather(\"data/bulldozer-train.feather\")\n",
    "df = df_raw.copy()"
   ]
  },
  {
   "cell_type": "code",
   "execution_count": null,
   "metadata": {},
   "outputs": [],
   "source": [
    "def sniff(df):\n",
    "    with pd.option_context(\"display.max_colwidth\", 20):\n",
    "        info = pd.DataFrame()\n",
    "        info['sample'] = df.iloc[0]\n",
    "        info['data type'] = df.dtypes\n",
    "        info['percent missing'] = df.isnull().sum()*100/len(df)\n",
    "        return info.sort_values('data type')"
   ]
  },
  {
   "cell_type": "code",
   "execution_count": null,
   "metadata": {},
   "outputs": [],
   "source": [
    "basefeatures = ['SalesID', 'MachineID', 'ModelID',\n",
    "                'datasource', 'YearMade',\n",
    "                # some missing values but use anyway:\n",
    "                'auctioneerID', 'MachineHoursCurrentMeter']"
   ]
  },
  {
   "cell_type": "code",
   "execution_count": null,
   "metadata": {},
   "outputs": [],
   "source": [
    "def test(X, y, n_estimators=50):\n",
    "    rf = RandomForestRegressor(n_estimators=n_estimators, n_jobs=-1, oob_score=True)\n",
    "    rf.fit(X, y)\n",
    "    oob = rf.oob_score_\n",
    "    n = rfnnodes(rf)\n",
    "    h = np.median(rfmaxdepths(rf))\n",
    "    print(f\"OOB R^2 {oob:.5f} using {n:,d} tree nodes with {h} median tree height\")\n",
    "    return rf, oob"
   ]
  },
  {
   "cell_type": "code",
   "execution_count": null,
   "metadata": {},
   "outputs": [],
   "source": [
    "X, y = df[basefeatures], df['SalePrice']\n",
    "X = X.fillna(0) # flip missing numeric values to zeros\n",
    "rf, oob_baseline_initial = test(X, y)"
   ]
  },
  {
   "cell_type": "code",
   "execution_count": null,
   "metadata": {},
   "outputs": [],
   "source": [
    "df = df.iloc[-100_000:] # take only last 100,000 records"
   ]
  },
  {
   "cell_type": "code",
   "execution_count": null,
   "metadata": {},
   "outputs": [],
   "source": [
    "X, y = df[basefeatures], df['SalePrice']\n",
    "X = X.fillna(0)\n",
    "rf, oob_baseline = test(X, y)"
   ]
  },
  {
   "cell_type": "code",
   "execution_count": null,
   "metadata": {},
   "outputs": [],
   "source": [
    "I = importances(rf, X, y)\n",
    "plot_importances(I)"
   ]
  },
  {
   "cell_type": "code",
   "execution_count": null,
   "metadata": {},
   "outputs": [],
   "source": [
    "del df['MachineID'] # dataset has inconsistencies\n",
    "del df['SalesID']   # unique sales ID so not generalizer"
   ]
  },
  {
   "cell_type": "code",
   "execution_count": null,
   "metadata": {},
   "outputs": [],
   "source": [
    "df['auctioneerID'] = df['auctioneerID'].astype(str)"
   ]
  },
  {
   "cell_type": "code",
   "execution_count": null,
   "metadata": {},
   "outputs": [],
   "source": [
    "from pandas.api.types import is_string_dtype, is_object_dtype\n",
    "def df_normalize_strings(df):\n",
    "    for col in df.columns:\n",
    "        if is_string_dtype(df[col]) or is_object_dtype(df[col]):\n",
    "            df[col] = df[col].str.lower()\n",
    "            df[col] = df[col].fillna(np.nan) # make None -> np.nan\n",
    "            df[col] = df[col].replace('none or unspecified', np.nan)\n",
    "            df[col] = df[col].replace('none', np.nan)\n",
    "            df[col] = df[col].replace('#name?', np.nan)\n",
    "            df[col] = df[col].replace('', np.nan)"
   ]
  },
  {
   "cell_type": "code",
   "execution_count": null,
   "metadata": {},
   "outputs": [],
   "source": [
    "df_normalize_strings(df)\n",
    "print(df['Drive_System'].unique())\n",
    "print(df['Backhoe_Mounting'].unique())"
   ]
  },
  {
   "cell_type": "code",
   "execution_count": null,
   "metadata": {},
   "outputs": [],
   "source": [
    "print(df['Tire_Size'].unique())\n",
    "print(df['Undercarriage_Pad_Width'].unique())"
   ]
  },
  {
   "cell_type": "code",
   "execution_count": null,
   "metadata": {},
   "outputs": [],
   "source": [
    "def extract_sizes(df, colname):\n",
    "    df[colname] = df[colname].str.extract(r'([0-9.]*)', expand=True)\n",
    "    df[colname] = df[colname].replace('', np.nan)\n",
    "    df[colname] = pd.to_numeric(df[colname])"
   ]
  },
  {
   "cell_type": "code",
   "execution_count": null,
   "metadata": {},
   "outputs": [],
   "source": [
    "extract_sizes(df, 'Tire_Size')\n",
    "extract_sizes(df, 'Undercarriage_Pad_Width')\n",
    "print(df['Tire_Size'].unique())\n",
    "print(df['Undercarriage_Pad_Width'].unique())"
   ]
  },
  {
   "cell_type": "code",
   "execution_count": null,
   "metadata": {},
   "outputs": [],
   "source": [
    "print(df['Blade_Width'].unique())\n",
    "print(df['Stick_Length'].unique())"
   ]
  },
  {
   "cell_type": "code",
   "execution_count": null,
   "metadata": {},
   "outputs": [],
   "source": [
    "from pandas.api.types import is_categorical_dtype\n",
    "def df_string_to_cat(df):\n",
    "    for col in df.columns:\n",
    "        if is_string_dtype(df[col]):\n",
    "            df[col] = df[col].astype('category').cat.as_ordered()\n",
    "\n",
    "def df_cat_to_catcode(df):\n",
    "    for col in df.columns:\n",
    "        if is_categorical_dtype(df[col]):\n",
    "            df[col] = df[col].cat.codes + 1"
   ]
  },
  {
   "cell_type": "code",
   "execution_count": null,
   "metadata": {},
   "outputs": [],
   "source": [
    "df_toy = pd.DataFrame(data={'Name':['Xue',np.nan,'Tom']})"
   ]
  },
  {
   "cell_type": "code",
   "execution_count": null,
   "metadata": {},
   "outputs": [],
   "source": [
    "df_string_to_cat(df_toy)\n",
    "df_toy['catcodes'] = df_toy['Name'].cat.codes"
   ]
  },
  {
   "cell_type": "code",
   "execution_count": null,
   "metadata": {},
   "outputs": [],
   "source": [
    "df_cat_to_catcode(df_toy)"
   ]
  },
  {
   "cell_type": "code",
   "execution_count": null,
   "metadata": {},
   "outputs": [],
   "source": [
    "df_string_to_cat(df)\n",
    "df_cat_to_catcode(df)"
   ]
  },
  {
   "cell_type": "code",
   "execution_count": null,
   "metadata": {},
   "outputs": [],
   "source": [
    "def fix_missing_num(df, colname):\n",
    "    df[colname+'_na'] = pd.isnull(df[colname])\n",
    "    df[colname].fillna(df[colname].median(), inplace=True)"
   ]
  },
  {
   "cell_type": "code",
   "execution_count": null,
   "metadata": {},
   "outputs": [],
   "source": [
    "df_toy = pd.DataFrame(data={'YearMade':[1995,2001,np.nan]})"
   ]
  },
  {
   "cell_type": "code",
   "execution_count": null,
   "metadata": {},
   "outputs": [],
   "source": [
    "fix_missing_num(df_toy, 'YearMade')"
   ]
  },
  {
   "cell_type": "code",
   "execution_count": null,
   "metadata": {},
   "outputs": [],
   "source": [
    "print(f\"Values {df['Tire_Size'].unique()}\")\n",
    "print(f\"Median {df['Tire_Size'].median()}\")"
   ]
  },
  {
   "cell_type": "code",
   "execution_count": null,
   "metadata": {},
   "outputs": [],
   "source": [
    "fix_missing_num(df, 'Tire_Size')"
   ]
  },
  {
   "cell_type": "code",
   "execution_count": null,
   "metadata": {},
   "outputs": [],
   "source": [
    "fix_missing_num(df, 'Undercarriage_Pad_Width')"
   ]
  },
  {
   "cell_type": "code",
   "execution_count": null,
   "metadata": {},
   "outputs": [],
   "source": [
    "df_small = df.sample(n=5_000) # don't draw too many dots\n",
    "df_small.plot.scatter('YearMade','SalePrice', alpha=0.02, c=bookcolors['blue'])"
   ]
  },
  {
   "cell_type": "code",
   "execution_count": null,
   "metadata": {},
   "outputs": [],
   "source": [
    "# There are some unlikely 1919, 1920 values too\n",
    "# Assume < 1950 is \"unknown\"\n",
    "df.loc[df.YearMade<1950, 'YearMade'] = np.nan\n",
    "fix_missing_num(df, 'YearMade')"
   ]
  },
  {
   "cell_type": "code",
   "execution_count": null,
   "metadata": {},
   "outputs": [],
   "source": [
    "df_small = df.sample(n=5_000)\n",
    "df_small.plot.scatter('YearMade','SalePrice', alpha=0.02, c=bookcolors['blue'])"
   ]
  },
  {
   "cell_type": "code",
   "execution_count": null,
   "metadata": {},
   "outputs": [],
   "source": [
    "inverted = df.query(\"saledate.dt.year < YearMade\")[['SalePrice','YearMade','saledate']]"
   ]
  },
  {
   "cell_type": "code",
   "execution_count": null,
   "metadata": {},
   "outputs": [],
   "source": [
    "df.loc[df.eval(\"saledate.dt.year < YearMade\"), 'YearMade'] = df['saledate'].dt.year"
   ]
  },
  {
   "cell_type": "code",
   "execution_count": null,
   "metadata": {},
   "outputs": [],
   "source": [
    "df.query(\"MachineHoursCurrentMeter==0\")['YearMade'].plot.hist(bins=30)"
   ]
  },
  {
   "cell_type": "code",
   "execution_count": null,
   "metadata": {},
   "outputs": [],
   "source": [
    "df.loc[df.eval(\"MachineHoursCurrentMeter==0\"),\n",
    "       'MachineHoursCurrentMeter'] = np.nan\n",
    "fix_missing_num(df, 'MachineHoursCurrentMeter')"
   ]
  },
  {
   "cell_type": "code",
   "execution_count": null,
   "metadata": {},
   "outputs": [],
   "source": [
    "X, y = df.drop(['SalePrice','saledate'], axis=1), df['SalePrice']\n",
    "rf, oob_all = test(X, y)"
   ]
  },
  {
   "cell_type": "code",
   "execution_count": null,
   "metadata": {},
   "outputs": [],
   "source": [
    "df = df.reset_index(drop=True)\n",
    "df.to_feather(\"data/bulldozer-train-clean.feather\")"
   ]
  },
  {
   "cell_type": "code",
   "execution_count": null,
   "metadata": {},
   "outputs": [],
   "source": [
    "I = importances(rf, X, y)\n",
    "plot_importances(I)"
   ]
  }
 ],
 "metadata": {
  "kernelspec": {
   "display_name": "Python 3",
   "language": "python",
   "name": "python3"
  }
 },
 "nbformat": 4,
 "nbformat_minor": 2
}
