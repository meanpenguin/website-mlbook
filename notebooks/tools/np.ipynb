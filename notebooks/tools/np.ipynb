{
 "cells": [
  {
   "cell_type": "markdown",
   "metadata": {},
   "source": [
    "# Notebook np from Chap 4 Development Tools"
   ]
  },
  {
   "cell_type": "code",
   "execution_count": null,
   "metadata": {},
   "outputs": [],
   "source": [
    "import numpy as np    # import with commonly-used alias np\n",
    "\n",
    "a = np.array([1,2,3,4,5]) # create 1D vector with 5 numbers\n",
    "print(f\"type is {type(a)}\")\n",
    "print(f\"dtype is {a.dtype}\")\n",
    "print(f\"ndim is {a.ndim}\")\n",
    "print(a)"
   ]
  },
  {
   "cell_type": "code",
   "execution_count": null,
   "metadata": {},
   "outputs": [],
   "source": [
    "a = a.astype(np.int8)\n",
    "print(a.dtype)\n",
    "print(a)"
   ]
  },
  {
   "cell_type": "code",
   "execution_count": null,
   "metadata": {},
   "outputs": [],
   "source": [
    "z = np.zeros(shape=[5], dtype=np.int8)"
   ]
  },
  {
   "cell_type": "code",
   "execution_count": null,
   "metadata": {},
   "outputs": [],
   "source": [
    "ones = np.ones([5])"
   ]
  },
  {
   "cell_type": "code",
   "execution_count": null,
   "metadata": {},
   "outputs": [],
   "source": [
    "print(f\"{a} + {a} = {a+a}\")\n",
    "print(f\"{a} - {ones} = {a-ones}\")\n",
    "print(f\"{a} * {z} = {a*z}\") # element-wise multiplication\n",
    "print(f\"np.dot({a}, {a}) = {np.dot(a,a)}\") # dot product"
   ]
  },
  {
   "cell_type": "code",
   "execution_count": null,
   "metadata": {},
   "outputs": [],
   "source": [
    "class MyVec:\n",
    "    def __init__(self, values):\n",
    "        self.data = values\n",
    "    def __add__(self, other):\n",
    "        newdata = [x+y for x,y in zip(self.data,other.data)]\n",
    "        return MyVec(newdata)\n",
    "    def __str__(self):\n",
    "        return '['+', '.join([str(v) for v in self.data])+']'\n",
    "\n",
    "a = MyVec([1,2,3])\n",
    "b = MyVec([3,4,5])\n",
    "print(a + b)\n",
    "print(a.__add__(b)) # how a+b is implemented"
   ]
  },
  {
   "cell_type": "code",
   "execution_count": null,
   "metadata": {},
   "outputs": [],
   "source": [
    "prices = np.random.randint(low=1, high=10, size=5)\n",
    "print(np.log(prices))\n",
    "print(np.mean(prices))\n",
    "print(np.max(prices))\n",
    "print(np.sum(prices))"
   ]
  },
  {
   "cell_type": "code",
   "execution_count": null,
   "metadata": {},
   "outputs": [],
   "source": [
    "t = np.array([[1,1,1,1,1],\n",
    "              [0,0,1,0,0],\n",
    "              [0,0,1,0,0],\n",
    "              [0,0,1,0,0]])\n",
    "u = np.array([[1,0,0,0,1],\n",
    "              [1,0,0,0,1],\n",
    "              [1,0,0,0,1],\n",
    "              [1,1,1,1,1]])\n",
    "\n",
    "print(f\"type is {type(t)}\")\n",
    "print(f\"dtype is {t.dtype}\")\n",
    "print(f\"ndim is {t.ndim}\")\n",
    "print(f\"shape is {t.shape}\")\n",
    "print(t)"
   ]
  },
  {
   "cell_type": "code",
   "execution_count": null,
   "metadata": {},
   "outputs": [],
   "source": [
    "fig, axes = plt.subplots(1,2,figsize=(2,1)) # 1 row, 2 columns\n",
    "axes[0].axis('off')\n",
    "axes[1].axis('off')\n",
    "axes[0].imshow(t, cmap='binary')\n",
    "axes[1].imshow(u, cmap='binary')\n",
    "plt.show()"
   ]
  },
  {
   "cell_type": "code",
   "execution_count": null,
   "metadata": {},
   "outputs": [],
   "source": [
    "a = np.random.random((2,3)) # 2 rows, 3 columns\n",
    "print(a)"
   ]
  },
  {
   "cell_type": "code",
   "execution_count": null,
   "metadata": {},
   "outputs": [],
   "source": [
    "a = np.arange(1,6)\n",
    "print(a)\n",
    "print(a[0],a[4]) # 1st and 5th item\n",
    "print(a[1:3])    # 2nd and 3rd items\n",
    "print(a[[2,4]])  # 3rd and 5th item"
   ]
  },
  {
   "cell_type": "code",
   "execution_count": null,
   "metadata": {},
   "outputs": [],
   "source": [
    "print(t[0,:])     # 1st row\n",
    "print(t[:,2])     # middle column\n",
    "print(t[2,3])     # element at 2,3\n",
    "print(t[0:2,:])   # 1st two rows\n",
    "print(t[:,[0,2]]) # 1st and 3rd columns"
   ]
  },
  {
   "cell_type": "code",
   "execution_count": null,
   "metadata": {},
   "outputs": [],
   "source": [
    "a = np.random.random(5) # get 5 random numbers in 0..1\n",
    "print(a)\n",
    "print(a>0.3)"
   ]
  },
  {
   "cell_type": "code",
   "execution_count": null,
   "metadata": {},
   "outputs": [],
   "source": [
    "b = np.arange(1,6)\n",
    "print(b[a>0.3])"
   ]
  },
  {
   "cell_type": "code",
   "execution_count": null,
   "metadata": {},
   "outputs": [],
   "source": [
    "print(t+u)"
   ]
  },
  {
   "cell_type": "code",
   "execution_count": null,
   "metadata": {},
   "outputs": [],
   "source": [
    "u = np.array([[1,0,0,0,1],\n",
    "              [1,0,0,0,1],\n",
    "              [1,0,0,0,1],\n",
    "              [1,1,1,1,1]])\n",
    "X = np.array([t,u])\n",
    "print(f\"type is {type(X)}\")\n",
    "print(f\"dtype is {X.dtype}\")\n",
    "print(f\"ndim is {X.ndim}\")\n",
    "print(X)"
   ]
  },
  {
   "cell_type": "code",
   "execution_count": null,
   "metadata": {},
   "outputs": [],
   "source": [
    "# loop equivalent of np.sum(u.flat)\n",
    "n = 0\n",
    "for v in u.flat:\n",
    "    n += v\n",
    "print(n)"
   ]
  },
  {
   "cell_type": "code",
   "execution_count": null,
   "metadata": {},
   "outputs": [],
   "source": [
    "u_flat = u.ravel()       # flattens into new 1D array\n",
    "print(np.sum(u.flat))    # flat is an iterator\n",
    "print(u_flat)"
   ]
  },
  {
   "cell_type": "code",
   "execution_count": null,
   "metadata": {},
   "outputs": [],
   "source": [
    "for i,row in enumerate(t):\n",
    "    print(f\"{i}: {row}\")"
   ]
  },
  {
   "cell_type": "code",
   "execution_count": null,
   "metadata": {},
   "outputs": [],
   "source": [
    "a = np.arange(1,13)\n",
    "print( \"4x3\n",
    "\", a.reshape(4,3) )\n",
    "print( \"3x4\n",
    "\", a.reshape(3,4) )\n",
    "print( \"2x6\n",
    "\", a.reshape(2,6) )"
   ]
  },
  {
   "cell_type": "code",
   "execution_count": null,
   "metadata": {},
   "outputs": [],
   "source": [
    "print( \"4x?\n",
    "\", a.reshape(4,3) )\n",
    "print( \"?x2\n",
    "\", a.reshape(-1,2) )"
   ]
  },
  {
   "cell_type": "code",
   "execution_count": null,
   "metadata": {},
   "outputs": [],
   "source": [
    "import pandas as pd\n",
    "from sklearn.ensemble import RandomForestRegressor\n",
    "\n",
    "df = pd.read_csv(\"data/rent-ideal.csv\")\n",
    "X, y = df.drop('price', axis=1), df['price']\n",
    "\n",
    "rf = RandomForestRegressor(n_estimators=100, n_jobs=-1)\n",
    "rf.fit(X, y)"
   ]
  },
  {
   "cell_type": "code",
   "execution_count": null,
   "metadata": {},
   "outputs": [],
   "source": [
    "test_vector = np.array([2,1,40.7947,-73.9957])"
   ]
  },
  {
   "cell_type": "code",
   "execution_count": null,
   "metadata": {},
   "outputs": [],
   "source": [
    "test_vector = test_vector.reshape(1,-1)\n",
    "pred = rf.predict(test_vector)\n",
    "print(f\"{test_vector} -> {pred}\")"
   ]
  }
 ],
 "metadata": {
  "kernelspec": {
   "display_name": "Python 3",
   "language": "python",
   "name": "python3"
  }
 },
 "nbformat": 4,
 "nbformat_minor": 2
}
