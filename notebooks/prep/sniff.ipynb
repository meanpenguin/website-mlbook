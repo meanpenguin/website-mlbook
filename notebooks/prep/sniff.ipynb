{
 "cells": [
  {
   "cell_type": "markdown",
   "metadata": {},
   "source": [
    "# Notebook sniff from Chap 5 Exploring and Denoising Your Data Set"
   ]
  },
  {
   "cell_type": "code",
   "execution_count": null,
   "metadata": {},
   "outputs": [],
   "source": [
    "import pandas as pd\n",
    "df = pd.read_csv(\"data/rent.csv\")\n",
    "print(df.shape) # print rows, columns"
   ]
  },
  {
   "cell_type": "code",
   "execution_count": null,
   "metadata": {},
   "outputs": [],
   "source": [
    "df.info()"
   ]
  },
  {
   "cell_type": "code",
   "execution_count": null,
   "metadata": {},
   "outputs": [],
   "source": [
    "df_num = df[['bathrooms', 'bedrooms', 'longitude', 'latitude', 'price']]"
   ]
  },
  {
   "cell_type": "code",
   "execution_count": null,
   "metadata": {},
   "outputs": [],
   "source": [
    "X_train = df_num.drop('price', axis=1)\n",
    "y_train = df_num['price']"
   ]
  },
  {
   "cell_type": "code",
   "execution_count": null,
   "metadata": {},
   "outputs": [],
   "source": [
    "from sklearn.ensemble import RandomForestRegressor\n",
    "rf = RandomForestRegressor(n_estimators=100,\n",
    "                           n_jobs=-1)        # train w/all CPU core"
   ]
  },
  {
   "cell_type": "code",
   "execution_count": null,
   "metadata": {},
   "outputs": [],
   "source": [
    "rf.fit(X_train, y_train)"
   ]
  },
  {
   "cell_type": "code",
   "execution_count": null,
   "metadata": {},
   "outputs": [],
   "source": [
    "r2 = rf.score(X_train, y_train)\n",
    "print( f\"{r2:.4f}\" )"
   ]
  },
  {
   "cell_type": "code",
   "execution_count": null,
   "metadata": {},
   "outputs": [],
   "source": [
    "rf = RandomForestRegressor(n_estimators=100,\n",
    "                           n_jobs=-1,\n",
    "                           oob_score=True)   # get error estimate\n",
    "rf.fit(X_train, y_train)\n",
    "noisy_oob_r2 = rf.oob_score_\n",
    "print(f\"OOB score {noisy_oob_r2:.4f}\")"
   ]
  },
  {
   "cell_type": "code",
   "execution_count": null,
   "metadata": {},
   "outputs": [],
   "source": [
    "from sklearn.model_selection import train_test_split\n",
    "from sklearn.metrics import mean_absolute_error\n",
    "import numpy as np\n",
    "\n",
    "!X, y = df_num.drop('price', axis=1), df_num['price']\n",
    "\n",
    "errors = []\n",
    "print(f\"Validation MAE trials:\", end='')\n",
    "for i in range(7):\n",
    "!    X_train, X_test, y_train, y_test = !        train_test_split(X, y, test_size=0.20)\n",
    "!    rf = RandomForestRegressor(n_estimators=100, n_jobs=-1)\n",
    "!    rf.fit(X_train, y_train)\n",
    "!    y_predicted = rf.predict(X_test)\n",
    "!    e = mean_absolute_error(y_test, y_predicted)\n",
    "    print(f\" ${e:.0f}\", end='')\n",
    "    errors.append(e)\n",
    "print()\n",
    "!noisy_avg_mae = np.mean(errors)\n",
    "print(f\"Average validation MAE ${noisy_avg_mae:.0f}\")"
   ]
  },
  {
   "cell_type": "code",
   "execution_count": null,
   "metadata": {},
   "outputs": [],
   "source": [
    "bookcolors = { # our usual book color palette\n",
    "         'crimson': '#a50026', 'red': '#d73027',\n",
    "         'redorange': '#f46d43', 'orange': '#fdae61',\n",
    "         'yellow': '#fee090', 'sky': '#e0f3f8',\n",
    "         'babyblue': '#abd9e9', 'lightblue': '#74add1',\n",
    "         'blue': '#4575b4', 'purple': '#313695'}\n",
    "fig,ax = plt.subplots()\n",
    "ax.set_xlabel('Num Bedrooms')\n",
    "ax.set_ylabel('Num Apts')\n",
    "ax.hist(df_num.bedrooms, color=bookcolors['blue'])\n",
    "plt.show()"
   ]
  },
  {
   "cell_type": "code",
   "execution_count": null,
   "metadata": {},
   "outputs": [],
   "source": [
    "bookcolors = {\n",
    "         'crimson': '#a50026', 'red': '#d73027',\n",
    "         'redorange': '#f46d43', 'orange': '#fdae61',\n",
    "         'yellow': '#fee090', 'sky': '#e0f3f8',\n",
    "         'babyblue': '#abd9e9', 'lightblue': '#74add1',\n",
    "         'blue': '#4575b4', 'purple': '#313695'\n",
    "     }"
   ]
  },
  {
   "cell_type": "code",
   "execution_count": null,
   "metadata": {},
   "outputs": [],
   "source": [
    "df_local = df[(df.latitude>40.764) & (df.latitude<40.7678) &\n",
    "              (df.longitude>=-73.9844) & (df.longitude<=-73.9842) &\n",
    "           (df.bathrooms==1) & (df.bedrooms==1)]"
   ]
  },
  {
   "cell_type": "code",
   "execution_count": null,
   "metadata": {},
   "outputs": [],
   "source": [
    "# filter all records (training/testing)\n",
    "df_clean = df_num[(df_num.price>1_000) & (df_num.price<10_000)]"
   ]
  },
  {
   "cell_type": "code",
   "execution_count": null,
   "metadata": {},
   "outputs": [],
   "source": [
    "fig,ax = plt.subplots()\n",
    "ax.set_xlabel('Clipped Price')\n",
    "ax.set_ylabel('Num Apts at that price')\n",
    "ax.hist(df_clean.price, bins=45, color=bookcolors['blue'])\n",
    "plt.show()"
   ]
  },
  {
   "cell_type": "code",
   "execution_count": null,
   "metadata": {},
   "outputs": [],
   "source": [
    "upper, lower = np.percentile(df.price, [1,99]) # find middle 98% of prices\n",
    "clipped = np.clip(df.price, upper, lower)\n",
    "fig,ax = plt.subplots()\n",
    "ax.set_xlabel('Prices in middle 98% range')\n",
    "ax.set_ylabel('Num Apts at that price')\n",
    "ax.hist(clipped, bins=45, color=bookcolors['blue'])\n",
    "plt.show()"
   ]
  },
  {
   "cell_type": "code",
   "execution_count": null,
   "metadata": {},
   "outputs": [],
   "source": [
    "df_missing = df_clean[(df_clean.longitude==0) | (df_clean.latitude==0)]"
   ]
  },
  {
   "cell_type": "code",
   "execution_count": null,
   "metadata": {},
   "outputs": [],
   "source": [
    "df_clean = df_clean[(df_clean.longitude!=0) | (df_clean.latitude!=0)]"
   ]
  },
  {
   "cell_type": "code",
   "execution_count": null,
   "metadata": {},
   "outputs": [],
   "source": [
    "df_clean = df_clean[(df_clean['latitude']>40.55) &\n",
    "                    (df_clean['latitude']<40.94) &\n",
    "                    (df_clean['longitude']>-74.1) &\n",
    "                    (df_clean['longitude']<-73.67)]"
   ]
  },
  {
   "cell_type": "code",
   "execution_count": null,
   "metadata": {},
   "outputs": [],
   "source": [
    "X, y = df_clean.drop('price', axis=1), df_clean['price']\n",
    "rf = RandomForestRegressor(n_estimators=100,\n",
    "                           n_jobs=-1,        # parallelize\n",
    "                           oob_score=True)   # get error estimate\n",
    "rf.fit(X, y)\n",
    "clean_oob_r2 = rf.oob_score_\n",
    "print(f\"Validation OOB score {clean_oob_r2:.4f}\")"
   ]
  },
  {
   "cell_type": "code",
   "execution_count": null,
   "metadata": {},
   "outputs": [],
   "source": [
    "def test_MAE(X, y, n_trials=7, outliers=True, verbose=True):\n",
    "    errors = []\n",
    "    if verbose: print(f\"Validation MAE trials:\", end='')\n",
    "    for i in range(n_trials):\n",
    "        X_train, X_test, y_train, y_test =             train_test_split(X, y, test_size=0.20)\n",
    "        rf = RandomForestRegressor(n_estimators=100, n_jobs=-1)\n",
    "        rf.fit(X_train, y_train)\n",
    "        if not outliers: # test only reasonable apts?\n",
    "            X_test = X_test[y_test<10_000]\n",
    "            y_test = y_test[y_test<10_000]\n",
    "        y_predicted = rf.predict(X_test)\n",
    "        e = mean_absolute_error(y_test, y_predicted)\n",
    "        if verbose: print(f\" ${e:.0f}\", end='')\n",
    "        errors.append(e)\n",
    "    if verbose: print()\n",
    "    return np.mean(errors)\n",
    "    \n",
    "clean_avg_mae = test_MAE(X, y)\n",
    "print(f\"Average clean validation MAE ${clean_avg_mae:.0f}\")"
   ]
  },
  {
   "cell_type": "code",
   "execution_count": null,
   "metadata": {},
   "outputs": [],
   "source": [
    "from sklearn.linear_model import Lasso\n",
    "\n",
    "X_train, X_test, y_train, y_test = train_test_split(X, y, test_size=0.20)\n",
    "lm = Lasso(alpha=0.5) # create linear model\n",
    "lm.fit(X_train, y_train)\n",
    "print(f\"LM Training score {lm.score(X_train, y_train):.4f}\")\n",
    "print(f\"LM Validation score {lm.score(X_test, y_test):.4f}\")"
   ]
  },
  {
   "cell_type": "code",
   "execution_count": null,
   "metadata": {},
   "outputs": [],
   "source": [
    "from sklearn.ensemble import GradientBoostingRegressor\n",
    "\n",
    "gbr = GradientBoostingRegressor(n_estimators = 2000)\n",
    "gbr.fit(X_train, y_train)\n",
    "print(f\"GB Training score {gbr.score(X_train, y_train):.4f}\")\n",
    "print(f\"GB Validation score {gbr.score(X_test, y_test):.4f}\")"
   ]
  }
 ],
 "metadata": {
  "kernelspec": {
   "display_name": "Python 3",
   "language": "python",
   "name": "python3"
  }
 },
 "nbformat": 4,
 "nbformat_minor": 2
}
