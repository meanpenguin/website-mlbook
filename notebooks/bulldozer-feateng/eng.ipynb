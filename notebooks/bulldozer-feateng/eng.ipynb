{
 "cells": [
  {
   "cell_type": "markdown",
   "metadata": {},
   "source": [
    "# Notebook eng from Chap 8 Bulldozer Feature Engineering"
   ]
  },
  {
   "cell_type": "code",
   "execution_count": null,
   "metadata": {},
   "outputs": [],
   "source": [
    "import pandas as pd\n",
    "import numpy as np\n",
    "from sklearn.ensemble import RandomForestRegressor\n",
    "from pandas.api.types import is_string_dtype, is_object_dtype, is_categorical_dtype\n",
    "\n",
    "from rfpimp import *  # feature importance plot\n",
    "\n",
    "bookcolors = {\n",
    "    'crimson': '#a50026', 'red': '#d73027',\n",
    "    'redorange': '#f46d43', 'orange': '#fdae61',\n",
    "    'yellow': '#fee090', 'sky': '#e0f3f8',\n",
    "    'babyblue': '#abd9e9', 'lightblue': '#74add1',\n",
    "    'blue': '#4575b4', 'purple': '#313695'}\n",
    "\n",
    "def test(X, y, n_estimators=50):\n",
    "    rf = RandomForestRegressor(n_estimators=n_estimators, n_jobs=-1, oob_score=True)\n",
    "    rf.fit(X, y)\n",
    "    oob = rf.oob_score_\n",
    "    n = rfnnodes(rf)\n",
    "    h = np.median(rfmaxdepths(rf))\n",
    "    print(f\"OOB R^2 {oob:.5f} using {n:,d} tree nodes with {h} median tree height\")\n",
    "    return rf, oob\n",
    "\n",
    "def df_string_to_cat(df):\n",
    "    for col in df.columns:\n",
    "        if is_string_dtype(df[col]):\n",
    "            df[col] = df[col].astype('category').cat.as_ordered()\n",
    "\n",
    "def df_cat_to_catcode(df):\n",
    "    for col in df.columns:\n",
    "        if is_categorical_dtype(df[col]):\n",
    "            df[col] = df[col].cat.codes + 1        \n",
    "\n",
    "def fix_missing_num(df, colname):\n",
    "    df[colname+'_na'] = pd.isnull(df[colname])\n",
    "    df[colname].fillna(df[colname].median(), inplace=True)"
   ]
  },
  {
   "cell_type": "code",
   "execution_count": null,
   "metadata": {},
   "outputs": [],
   "source": [
    "df_raw = pd.read_feather(\"data/bulldozer-train.feather\")\n",
    "df_raw = df_raw.iloc[-100_000:] # same 100,000 records as before\n",
    "df = pd.read_feather(\"data/bulldozer-train-clean.feather\")"
   ]
  },
  {
   "cell_type": "code",
   "execution_count": null,
   "metadata": {},
   "outputs": [],
   "source": [
    "X, y = df.drop(['SalePrice','saledate'], axis=1), df['SalePrice']\n",
    "rf, oob_clean = test(X, y, n_estimators=150)"
   ]
  },
  {
   "cell_type": "code",
   "execution_count": null,
   "metadata": {},
   "outputs": [],
   "source": [
    "def df_split_dates(df,colname):\n",
    "    df[\"saleyear\"] = df[colname].dt.year\n",
    "    df[\"salemonth\"] = df[colname].dt.month\n",
    "    df[\"saleday\"] = df[colname].dt.day\n",
    "    df[\"saledayofweek\"] = df[colname].dt.dayofweek\n",
    "    df[\"saledayofyear\"] = df[colname].dt.dayofyear\n",
    "    df[colname] = df[colname].astype(np.int64) # convert to seconds since 1970"
   ]
  },
  {
   "cell_type": "code",
   "execution_count": null,
   "metadata": {},
   "outputs": [],
   "source": [
    "df_split_dates(df, 'saledate')"
   ]
  },
  {
   "cell_type": "code",
   "execution_count": null,
   "metadata": {},
   "outputs": [],
   "source": [
    "X, y = df.drop('SalePrice', axis=1), df['SalePrice']\n",
    "rf, oob_dates = test(X, y, n_estimators=150)"
   ]
  },
  {
   "cell_type": "code",
   "execution_count": null,
   "metadata": {},
   "outputs": [],
   "source": [
    "df['age'] = df['saleyear'] - df['YearMade']\n",
    "\n",
    "X, y = df.drop('SalePrice', axis=1), df['SalePrice']\n",
    "rf, oob_age = test(X, y, n_estimators=150)"
   ]
  },
  {
   "cell_type": "code",
   "execution_count": null,
   "metadata": {},
   "outputs": [],
   "source": [
    "I = importances(rf, X, y)\n",
    "plot_importances(I.head(15))"
   ]
  },
  {
   "cell_type": "code",
   "execution_count": null,
   "metadata": {},
   "outputs": [],
   "source": [
    "features = list(df.drop('SalePrice',axis=1).columns)\n",
    "datefeatures = list(df.filter(regex=(\"sale*\")).columns)\n",
    "for f in datefeatures:\n",
    "    features.remove(f)\n",
    "features.remove('YearMade')\n",
    "features.remove('age')\n",
    "features += [['YearMade','age']+datefeatures]\n",
    "I = importances(rf, X, y, features=features)\n",
    "plot_importances(I.head(15))"
   ]
  },
  {
   "cell_type": "code",
   "execution_count": null,
   "metadata": {},
   "outputs": [],
   "source": [
    "fig,ax = plt.subplots()\n",
    "df_small = df.sample(n=5_000) # don't draw too many dots\n",
    "ax.scatter(df_small['age'], df_small['SalePrice'],\n",
    "           alpha=0.03, c=bookcolors['blue'])\n",
    "ax.set_ylabel(\"SalePrice\")\n",
    "ax.set_xlabel(\"Age in years\")"
   ]
  },
  {
   "cell_type": "code",
   "execution_count": null,
   "metadata": {},
   "outputs": [],
   "source": [
    "temp = df_raw.fillna('nan') # original dataset\n",
    "temp = temp.groupby('ProductSize').mean()\n",
    "temp[['SalePrice']].sort_values('SalePrice').plot.barh()"
   ]
  },
  {
   "cell_type": "code",
   "execution_count": null,
   "metadata": {},
   "outputs": [],
   "source": [
    "sizes = {None:0, 'Mini':1, 'Compact':1, 'Small':2, 'Medium':3,\n",
    "         'Large / Medium':4, 'Large':5}\n",
    "df['ProductSize'] = df_raw['ProductSize'].map(sizes).values"
   ]
  },
  {
   "cell_type": "code",
   "execution_count": null,
   "metadata": {},
   "outputs": [],
   "source": [
    "X, y = df.drop('SalePrice', axis=1), df['SalePrice']\n",
    "rf, oob_ProductSize = test(X, y, n_estimators=150)"
   ]
  },
  {
   "cell_type": "code",
   "execution_count": null,
   "metadata": {},
   "outputs": [],
   "source": [
    "df['Hydraulics_Flow'] = df_raw['Hydraulics_Flow'].values\n",
    "df['Hydraulics_Flow'] = df['Hydraulics_Flow'].replace('None or Unspecified', np.nan)\n",
    "onehot = pd.get_dummies(df['Hydraulics_Flow'],\n",
    "                        prefix='Hydraulics_Flow',\n",
    "                        dtype=bool)"
   ]
  },
  {
   "cell_type": "code",
   "execution_count": null,
   "metadata": {},
   "outputs": [],
   "source": [
    "del df['Hydraulics_Flow']\n",
    "df = pd.concat([df, onehot], axis=1)"
   ]
  },
  {
   "cell_type": "code",
   "execution_count": null,
   "metadata": {},
   "outputs": [],
   "source": [
    "X, y = df.drop('SalePrice', axis=1), df['SalePrice']\n",
    "rf, oob_Hydraulics_Flow = test(X, y, n_estimators=150)"
   ]
  },
  {
   "cell_type": "code",
   "execution_count": null,
   "metadata": {},
   "outputs": [],
   "source": [
    "I = importances(rf, X, y)\n",
    "plot_importances(I.head(20))"
   ]
  },
  {
   "cell_type": "code",
   "execution_count": null,
   "metadata": {},
   "outputs": [],
   "source": [
    "df['Enclosure'] = df_raw['Enclosure'].values\n",
    "df['Enclosure'] = df['Enclosure'].replace('EROPS w AC', 'EROPS AC')\n",
    "df['Enclosure'] = df['Enclosure'].replace('None or Unspecified', np.nan)\n",
    "df['Enclosure'] = df['Enclosure'].replace('NO ROPS', np.nan)"
   ]
  },
  {
   "cell_type": "code",
   "execution_count": null,
   "metadata": {},
   "outputs": [],
   "source": [
    "temp = df.groupby('Enclosure').mean()\n",
    "temp[['SalePrice']].sort_values('SalePrice').plot.barh()"
   ]
  },
  {
   "cell_type": "code",
   "execution_count": null,
   "metadata": {},
   "outputs": [],
   "source": [
    "onehot = pd.get_dummies(df['Enclosure'],\n",
    "                        prefix='Enclosure',\n",
    "                        dtype=bool)\n",
    "del df['Enclosure']\n",
    "df = pd.concat([df, onehot], axis=1)\n",
    "X, y = df.drop('SalePrice', axis=1), df['SalePrice']\n",
    "rf, oob_Enclosure = test(X, y, n_estimators=150)"
   ]
  },
  {
   "cell_type": "code",
   "execution_count": null,
   "metadata": {},
   "outputs": [],
   "source": [
    "I = importances(rf, X, y)\n",
    "plot_importances(I.head(20))"
   ]
  },
  {
   "cell_type": "code",
   "execution_count": null,
   "metadata": {},
   "outputs": [],
   "source": [
    "temp = df_raw.groupby('fiProductClassDesc').mean()\n",
    "temp[['SalePrice']].sort_values('SalePrice').head(15).plot.barh()"
   ]
  },
  {
   "cell_type": "code",
   "execution_count": null,
   "metadata": {},
   "outputs": [],
   "source": [
    "# careful when copying between dataframes; use .values\n",
    "df_split = df_raw.fiProductClassDesc.str.split(' - ',expand=True).values\n",
    "df['fiProductClassDesc'] = df_split[:,0] \n",
    "df['fiProductClassSpec'] = df_split[:,1] # temporary column"
   ]
  },
  {
   "cell_type": "code",
   "execution_count": null,
   "metadata": {},
   "outputs": [],
   "source": [
    "pattern = r'([0-9.\\+]*)(?: to ([0-9.\\+]*)|\\+) ([a-zA-Z ]*)'\n",
    "df_split = df['fiProductClassSpec'].str.extract(pattern, expand=True).values\n",
    "df['fiProductClassSpec_lower'] = pd.to_numeric(df_split[:,0])\n",
    "df['fiProductClassSpec_upper'] = pd.to_numeric(df_split[:,1])\n",
    "df['fiProductClassSpec_units'] = df_split[:,2]\n",
    "del df['fiProductClassSpec'] # remove temporary column"
   ]
  },
  {
   "cell_type": "code",
   "execution_count": null,
   "metadata": {},
   "outputs": [],
   "source": [
    "fix_missing_num(df, 'fiProductClassSpec_lower')\n",
    "fix_missing_num(df, 'fiProductClassSpec_upper')\n",
    "# label encode fiProductClassDesc fiProductClassSpec_units\n",
    "df_string_to_cat(df)\n",
    "df_cat_to_catcode(df)"
   ]
  },
  {
   "cell_type": "code",
   "execution_count": null,
   "metadata": {},
   "outputs": [],
   "source": [
    "X, y = df.drop('SalePrice', axis=1), df['SalePrice']\n",
    "rf, oob_fiProductClassDesc = test(X, y, n_estimators=150)"
   ]
  },
  {
   "cell_type": "code",
   "execution_count": null,
   "metadata": {},
   "outputs": [],
   "source": [
    "X, y = df.drop('SalePrice', axis=1), df['SalePrice']\n",
    "y = np.log(y)\n",
    "rf, oob_log = test(X, y, n_estimators=150)"
   ]
  },
  {
   "cell_type": "code",
   "execution_count": null,
   "metadata": {},
   "outputs": [],
   "source": [
    "I = importances(rf, X, y)\n",
    "plot_importances(I.head(30))"
   ]
  },
  {
   "cell_type": "code",
   "execution_count": null,
   "metadata": {},
   "outputs": [],
   "source": [
    "features = ['Baseline', 'dates', 'age', 'ProductSize', \n",
    "            'Hydraulics_Flow', 'Enclosure', \n",
    "            'fiProductClassDesc', 'log']\n",
    "scores   = [oob_clean, oob_dates, oob_age, oob_ProductSize, \n",
    "            oob_Hydraulics_Flow, oob_Enclosure, \n",
    "            oob_fiProductClassDesc, oob_log]\n",
    "\n",
    "fig,ax = plt.subplots(figsize=(6,4))\n",
    "ax.plot(features, scores, 'o-', c=bookcolors['blue'])\n",
    "plt.xticks(rotation=60)\n",
    "ax.set_ylabel(\"OOB R^2 Score\")\n",
    "ax.set_xlabel(\"Change made to model\")"
   ]
  }
 ],
 "metadata": {
  "kernelspec": {
   "display_name": "Python 3",
   "language": "python",
   "name": "python3"
  }
 },
 "nbformat": 4,
 "nbformat_minor": 2
}
